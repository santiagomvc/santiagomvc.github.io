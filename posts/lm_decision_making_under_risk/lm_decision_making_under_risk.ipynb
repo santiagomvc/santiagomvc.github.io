{
 "cells": [
  {
   "cell_type": "raw",
   "metadata": {
    "vscode": {
     "languageId": "raw"
    }
   },
   "source": [
    "---\n",
    "title: \"Intro to Entity Matching\"\n",
    "description: \"Matching entities in a sea of data\"\n",
    "image: \"thumbnail.png\"\n",
    "categories: [entity-matching, nlp, code, python, lm, gpt4, genre, rf]\n",
    "author: \"Santiago Velez\"\n",
    "date: \"7/21/2024\"\n",
    "date-modified: \"7/21/2024\"\n",
    "draft: true\n",
    "---"
   ]
  },
  {
   "cell_type": "markdown",
   "metadata": {
    "vscode": {
     "languageId": "raw"
    }
   },
   "source": [
    "Language Models are not aligned to behave like humans, which can generate unexpected behavior.  \n",
    "\n",
    "Base language models are aligned to predict the next token in a sequence of words, trained over most of the public internet text corpus. Since we want LMs to be more helpful than a simple autocomplete, we use Reinforcement Learning from Human Feedback (RLHF) to align the LMs objective to generate helpful responses to users. This does not mean that LM will behave like humans in all cases. In some cases humans can be very unhelpful, as anyone calling customer support can attest. \n",
    "\n",
    "Still, in some cases (like testing a web page shopping experience) it can be useful to have a LM behave like a human. In this case we will focus in a simple case of decision making under risk, where humans usually behave in an irrational behavior, not always present in the language model responses."
   ]
  },
  {
   "cell_type": "markdown",
   "metadata": {},
   "source": [
    "You can run the following code on Google Colab clicking here.\n",
    "\n",
    "<a target=\"_blank\" href=\"https://colab.research.google.com/github/santiagomvc/santiagomvc.github.io/blob/main/posts/entity_matching_intro/entity_matching_intro.ipynb\">\n",
    "  <img src=\"https://colab.research.google.com/assets/colab-badge.svg\" alt=\"Open In Colab\"/>\n",
    "</a>"
   ]
  },
  {
   "cell_type": "markdown",
   "metadata": {},
   "source": [
    "## Setup"
   ]
  },
  {
   "cell_type": "code",
   "execution_count": null,
   "metadata": {},
   "outputs": [],
   "source": [
    "# Downloading required libraries and packages\n",
    "!pip install transformers spacy numpy scipy py_entitymatching python-dotenv openai"
   ]
  }
 ],
 "metadata": {
  "language_info": {
   "name": "python"
  }
 },
 "nbformat": 4,
 "nbformat_minor": 2
}
